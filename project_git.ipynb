{
 "cells": [
  {
   "cell_type": "code",
   "execution_count": 1,
   "metadata": {},
   "outputs": [],
   "source": [
    "import os\n",
    "import sklearn\n",
    "import pandas as pd\n",
    "import numpy as np\n",
    "from PIL import Image\n",
    "import matplotlib.pyplot as plt"
   ]
  },
  {
   "cell_type": "code",
   "execution_count": 2,
   "metadata": {},
   "outputs": [],
   "source": [
    "from sklearn.model_selection import train_test_split\n",
    "from sklearn.pipeline import make_pipeline\n",
    "from sklearn.preprocessing import StandardScaler\n",
    "from sklearn.naive_bayes import GaussianNB\n",
    "from sklearn import tree\n",
    "from sklearn.neighbors import KNeighborsClassifier\n",
    "from sklearn.linear_model import SGDClassifier,RidgeClassifier\n",
    "from sklearn.ensemble import RandomForestClassifier,AdaBoostClassifier,HistGradientBoostingClassifier, ExtraTreesClassifier\n",
    "from sklearn import metrics\n",
    "from skimage.feature import hog\n",
    "from sklearn.model_selection import GridSearchCV\n",
    "from sklearn.pipeline import Pipeline\n",
    "from sklearn.base import BaseEstimator,TransformerMixin"
   ]
  },
  {
   "cell_type": "code",
   "execution_count": 3,
   "metadata": {},
   "outputs": [],
   "source": [
    "import tensorflow as tf\n",
    "from tensorflow.keras import layers, models"
   ]
  },
  {
   "cell_type": "code",
   "execution_count": 4,
   "metadata": {},
   "outputs": [
    {
     "name": "stdout",
     "output_type": "stream",
     "text": [
      "   id       v1       v2       v3       v4       v5       v6       v7       v8  \\\n",
      "0   1  0.37797 -0.94808  0.01346  0.17893  0.37795  0.63571  0.13943 -0.25607   \n",
      "1   2  0.07609 -0.09774  0.39666 -0.39026  0.10606  0.52774  0.07105  0.33720   \n",
      "2   3  1.19391 -0.68707 -0.68422 -0.36378 -0.60847 -0.40118  1.45432  0.00592   \n",
      "3   4  1.34949 -0.31498 -1.30248  0.50278  1.66292 -1.06094 -0.70835 -0.24237   \n",
      "4   5 -0.03512 -0.34196  0.14230  1.50513 -0.14364  0.49429  0.07823 -0.04356   \n",
      "\n",
      "        v9  ...     v504     v505     v506     v507     v508     v509  \\\n",
      "0 -0.39341  ... -0.03494  1.32443 -0.94570  0.02055 -1.23908  0.43507   \n",
      "1  0.69917  ...  0.86624 -1.24953 -0.21511 -1.54146  1.04765 -1.24035   \n",
      "2  1.68940  ... -0.35893  0.02330  0.31548 -0.34923 -0.41772 -0.58175   \n",
      "3 -0.15509  ...  0.23942  0.20774  0.81792 -0.74814 -0.62521  0.01689   \n",
      "4  0.42009  ... -1.78407  0.07465  1.50182 -0.41289 -0.55908 -0.29702   \n",
      "\n",
      "      v510     v511     v512  glasses  \n",
      "0  1.08635  1.69027  0.61609        0  \n",
      "1  0.00866 -1.27640 -0.60496        1  \n",
      "2 -0.60177  0.43555  0.41982        1  \n",
      "3  0.83997 -0.46986  0.06755        0  \n",
      "4  0.83641  0.59756 -0.20298        0  \n",
      "\n",
      "[5 rows x 514 columns]\n"
     ]
    }
   ],
   "source": [
    "df = pd.read_csv('train.csv')\n",
    "print(df.head())"
   ]
  },
  {
   "cell_type": "code",
   "execution_count": 5,
   "metadata": {},
   "outputs": [
    {
     "name": "stdout",
     "output_type": "stream",
     "text": [
      "[[ 0.37797 -0.94808  0.01346 ...  1.08635  1.69027  0.61609]\n",
      " [ 0.07609 -0.09774  0.39666 ...  0.00866 -1.2764  -0.60496]\n",
      " [ 1.19391 -0.68707 -0.68422 ... -0.60177  0.43555  0.41982]\n",
      " ...\n",
      " [-0.81564 -0.46034 -0.40044 ...  0.14222  0.10394 -0.33635]\n",
      " [ 0.09764 -0.0544  -1.53883 ... -0.25393  0.84022 -0.13068]\n",
      " [ 0.48335  1.66099 -1.98407 ...  0.06201 -2.24746  0.17192]]\n",
      "(4500, 512)\n",
      "4500\n",
      "0.36533333333333334 0.6346666666666667\n"
     ]
    }
   ],
   "source": [
    "\n",
    "X_df = df.drop(columns=['id','glasses'])\n",
    "X = X_df.to_numpy()\n",
    "y = df['glasses'].to_numpy()\n",
    "print(X)\n",
    "print(X.shape)\n",
    "print(len(y))\n",
    "\n",
    "count_zero = [i for i in y if i == 0 ]\n",
    "count_one = [i for i in y if i == 1]\n",
    "\n",
    "count_sum = len(count_zero)+len(count_one)\n",
    "\n",
    "print(len(count_zero)/count_sum,len(count_one)/count_sum)"
   ]
  },
  {
   "cell_type": "code",
   "execution_count": 6,
   "metadata": {},
   "outputs": [],
   "source": [
    "X_train, X_test, y_train, y_test = train_test_split(X,y, test_size=int(500), random_state=51)"
   ]
  },
  {
   "cell_type": "code",
   "execution_count": 7,
   "metadata": {},
   "outputs": [
    {
     "name": "stdout",
     "output_type": "stream",
     "text": [
      "gridseraching model: SGDClassifier(loss='modified_huber')\n",
      "parameter: [{'model__alpha': [0.0001, 0.001, 0.1]}]\n",
      "Fitting 5 folds for each of 3 candidates, totalling 15 fits\n",
      "[CV] END ................................model__alpha=0.0001; total time=   0.2s\n",
      "[CV] END ................................model__alpha=0.0001; total time=   0.1s\n",
      "[CV] END ................................model__alpha=0.0001; total time=   0.2s\n",
      "[CV] END ................................model__alpha=0.0001; total time=   0.2s\n",
      "[CV] END ................................model__alpha=0.0001; total time=   0.2s\n",
      "[CV] END .................................model__alpha=0.001; total time=   0.2s\n",
      "[CV] END .................................model__alpha=0.001; total time=   0.2s\n",
      "[CV] END .................................model__alpha=0.001; total time=   0.2s\n",
      "[CV] END .................................model__alpha=0.001; total time=   0.3s\n",
      "[CV] END .................................model__alpha=0.001; total time=   0.1s\n",
      "[CV] END ...................................model__alpha=0.1; total time=   0.2s\n",
      "[CV] END ...................................model__alpha=0.1; total time=   0.3s\n",
      "[CV] END ...................................model__alpha=0.1; total time=   0.5s\n",
      "[CV] END ...................................model__alpha=0.1; total time=   0.2s\n",
      "[CV] END ...................................model__alpha=0.1; total time=   0.7s\n",
      "f1score : 0.96274846386781\n",
      "gridseraching model: KNeighborsClassifier(n_neighbors=2)\n",
      "parameter: [{'model__n_neighbors': [2, 3, 4, 5]}]\n",
      "Fitting 5 folds for each of 4 candidates, totalling 20 fits\n",
      "[CV] END ...............................model__n_neighbors=2; total time=   0.7s\n",
      "[CV] END ...............................model__n_neighbors=2; total time=   0.4s\n",
      "[CV] END ...............................model__n_neighbors=2; total time=   0.5s\n",
      "[CV] END ...............................model__n_neighbors=2; total time=   0.4s\n",
      "[CV] END ...............................model__n_neighbors=2; total time=   0.4s\n",
      "[CV] END ...............................model__n_neighbors=3; total time=   0.4s\n",
      "[CV] END ...............................model__n_neighbors=3; total time=   0.7s\n",
      "[CV] END ...............................model__n_neighbors=3; total time=   0.4s\n",
      "[CV] END ...............................model__n_neighbors=3; total time=   0.4s\n",
      "[CV] END ...............................model__n_neighbors=3; total time=   0.4s\n",
      "[CV] END ...............................model__n_neighbors=4; total time=   0.5s\n",
      "[CV] END ...............................model__n_neighbors=4; total time=   0.5s\n",
      "[CV] END ...............................model__n_neighbors=4; total time=   0.4s\n",
      "[CV] END ...............................model__n_neighbors=4; total time=   0.4s\n",
      "[CV] END ...............................model__n_neighbors=4; total time=   0.4s\n",
      "[CV] END ...............................model__n_neighbors=5; total time=   0.4s\n",
      "[CV] END ...............................model__n_neighbors=5; total time=   0.4s\n",
      "[CV] END ...............................model__n_neighbors=5; total time=   0.4s\n",
      "[CV] END ...............................model__n_neighbors=5; total time=   0.4s\n",
      "[CV] END ...............................model__n_neighbors=5; total time=   0.4s\n",
      "f1score : 0.9994115722834767\n"
     ]
    }
   ],
   "source": [
    "def grid_search_model(model, model_para, X, y):\n",
    "    print(f\"gridseraching model: {model}\")\n",
    "    print(f\"parameter: {model_para}\")\n",
    "    model_pipeline = Pipeline([('scaler', StandardScaler()), ('model', model)])\n",
    "    clf = GridSearchCV(model_pipeline, model_para, scoring='f1',verbose=2)\n",
    "    clf.fit(X,y)\n",
    "    print(f\"f1score : {clf.best_score_}\")\n",
    "    return (clf.best_estimator_)\n",
    "\n",
    "if __name__ == '__main__':\n",
    "    models = [SGDClassifier(loss='modified_huber'),KNeighborsClassifier(n_neighbors=2)]\n",
    "    model_paras = [ [{'model__alpha': [0.0001, 0.001, 0.1]}], \\\n",
    "                   \n",
    "                   [{'model__n_neighbors': [2, 3, 4, 5]}] \\\n",
    "                   ]\n",
    "    \n",
    "    best_models = []\n",
    "    for i in range(len(models)):\n",
    "        best_models.append(grid_search_model(models[i], model_paras[i], X_train,y_train))\n",
    "                  "
   ]
  },
  {
   "cell_type": "code",
   "execution_count": 8,
   "metadata": {},
   "outputs": [
    {
     "name": "stdout",
     "output_type": "stream",
     "text": [
      "number of models: 2\n",
      "model: Pipeline(steps=[('scaler', StandardScaler()),\n",
      "                ('model', SGDClassifier(loss='modified_huber'))])\n",
      "validation mean acc: 0.9444444444444444\n",
      "validation f1score: 0.9577559986481919\n",
      "\n",
      "\n",
      "model: Pipeline(steps=[('scaler', StandardScaler()),\n",
      "                ('model', KNeighborsClassifier(n_neighbors=2))])\n",
      "validation mean acc: 0.9955555555555555\n",
      "validation f1score: 0.9964838255977497\n",
      "\n",
      "\n"
     ]
    }
   ],
   "source": [
    "def validate_model(model, X, y):\n",
    "    print(f\"model: {model}\")\n",
    "    X_train, X_valid, y_train, y_valid = train_test_split(X,y, test_size=0.5, random_state=51)\n",
    "    \n",
    "    clf = model\n",
    "    clf.fit(X_train, y_train)\n",
    "    print(f\"validation mean acc: {clf.score(X_valid, y_valid)}\")\n",
    "    print(f\"validation f1score: {metrics.f1_score(y_valid, clf.predict(X_valid))}\")\n",
    "\n",
    "if __name__ == '__main__':\n",
    "    models = best_models\n",
    "    # models = [GaussianNB(), tree.DecisionTreeClassifier(), KNeighborsClassifier(n_neighbors=2), \\\n",
    "    #     SGDClassifier(loss='modified_huber'), RandomForestClassifier(max_depth=2), AdaBoostClassifier(n_estimators=10), \\\n",
    "    #     HistGradientBoostingClassifier(max_iter=100), RidgeClassifier(),ExtraTreesClassifier()\n",
    "    #     ]\n",
    "    \n",
    "    print(f\"number of models: {len(models)}\")\n",
    "\n",
    "    for model in models :\n",
    "        validate_model(model, X, y)\n",
    "        print(\"\\n\")\n",
    "\n"
   ]
  },
  {
   "cell_type": "code",
   "execution_count": 9,
   "metadata": {},
   "outputs": [],
   "source": [
    "import pickle\n",
    "\n",
    "def load_image(path):\n",
    "    with open(path, 'rb') as f:\n",
    "        image = Image.open(f).resize((96,96))\n",
    "    return np.array(image)\n",
    "\n",
    "# pickle_data need to be true for first time\n",
    "pickle_data = False\n",
    "\n",
    "if pickle_data:\n",
    "\n",
    "    image_dir = os.path.join(os.getcwd(),'faces-spring-2020','faces-spring-2020')\n",
    "\n",
    "    image_data = list()\n",
    "\n",
    "    for i in range(1, len(X)+1):\n",
    "        image_name = 'face-'+ str(i)+ '.png' \n",
    "        cur_path = os.path.join(image_dir,image_name)\n",
    "        image_data.append(load_image(cur_path))\n",
    "        if i % 500 == 0 and (i!=0):\n",
    "            print(i)\n",
    "\n",
    "    image_data = np.array(image_data)\n",
    "    with open('image_data.pkl', 'wb') as f:\n",
    "        pickle.dump(image_data,f)\n",
    "else:\n",
    "    with open('image_data.pkl', 'rb') as f:\n",
    "        image_data =pickle.load(f)"
   ]
  },
  {
   "cell_type": "code",
   "execution_count": 10,
   "metadata": {},
   "outputs": [
    {
     "name": "stdout",
     "output_type": "stream",
     "text": [
      "4500\n",
      "96\n",
      "(4500, 96, 96, 3)\n"
     ]
    }
   ],
   "source": [
    "print(len(image_data))\n",
    "print(len(image_data[0]))\n",
    "print(image_data.shape)"
   ]
  },
  {
   "cell_type": "code",
   "execution_count": 11,
   "metadata": {},
   "outputs": [],
   "source": [
    "class hogTransformer(BaseEstimator, TransformerMixin):\n",
    "    def __init__(self):\n",
    "        pass   \n",
    "\n",
    "\n",
    "    def fit(self,X, y):\n",
    "        return self\n",
    "    \n",
    "    def transform(self,X):\n",
    "        def localhog(image):\n",
    "            return hog(image, orientations=8, pixels_per_cell=(8, 8),\n",
    "                    cells_per_block=(3, 3), channel_axis=-1)\n",
    "\n",
    "        return np.array([localhog(i) for i in X])\n",
    "\n"
   ]
  },
  {
   "cell_type": "code",
   "execution_count": 12,
   "metadata": {},
   "outputs": [
    {
     "name": "stdout",
     "output_type": "stream",
     "text": [
      "(2, 7200)\n"
     ]
    }
   ],
   "source": [
    "vis_hog = hogTransformer()\n",
    "image_hog = vis_hog.transform(image_data[:2])\n",
    "print(image_hog.shape)"
   ]
  },
  {
   "cell_type": "code",
   "execution_count": 13,
   "metadata": {},
   "outputs": [
    {
     "name": "stderr",
     "output_type": "stream",
     "text": [
      "C:\\Users\\wongm\\AppData\\Local\\Temp\\ipykernel_9664\\3947459407.py:9: MatplotlibDeprecationWarning: Auto-removal of overlapping axes is deprecated since 3.6 and will be removed two minor releases later; explicitly call ax.remove() as needed.\n",
      "  plt.subplot(4,2,1)\n"
     ]
    },
    {
     "data": {
      "text/plain": [
       "<matplotlib.image.AxesImage at 0x15cc33cba00>"
      ]
     },
     "execution_count": 13,
     "metadata": {},
     "output_type": "execute_result"
    },
    {
     "data": {
      "image/png": "[encoded data removed]",
      "text/plain": [
       "<Figure size 640x480 with 3 Axes>"
      ]
     },
     "metadata": {},
     "output_type": "display_data"
    }
   ],
   "source": [
    "hog_plt = hog(image_data[0], orientations=8, pixels_per_cell=(8, 8),\n",
    "                    cells_per_block=(3, 3),visualize=True, channel_axis=-1,)\n",
    "\n",
    "plt.subplot(4,1,1)\n",
    "plt.imshow(image_data[0])\n",
    "plt.subplot(4,1,2)\n",
    "plt.imshow(image_data[1])\n",
    "\n",
    "plt.subplot(4,2,1)\n",
    "plt.imshow(hog_plt[1],'gray')\n",
    "hog_plt = hog(image_data[1], orientations=8, pixels_per_cell=(8, 8),\n",
    "                    cells_per_block=(3, 3),visualize=True, channel_axis=-1,)\n",
    "plt.subplot(4,2,2)\n",
    "plt.imshow(hog_plt[1],'gray')\n",
    "\n"
   ]
  },
  {
   "cell_type": "code",
   "execution_count": 14,
   "metadata": {},
   "outputs": [
    {
     "name": "stdout",
     "output_type": "stream",
     "text": [
      "number of models: 2\n",
      "model: Pipeline(steps=[('hogtransformer', hogTransformer()),\n",
      "                ('pipeline',\n",
      "                 Pipeline(steps=[('scaler', StandardScaler()),\n",
      "                                 ('model',\n",
      "                                  SGDClassifier(loss='modified_huber'))]))])\n",
      "validation mean acc: 0.8511111111111112\n",
      "validation f1score: 0.8873949579831932\n",
      "\n",
      "\n",
      "model: Pipeline(steps=[('hogtransformer', hogTransformer()),\n",
      "                ('pipeline',\n",
      "                 Pipeline(steps=[('scaler', StandardScaler()),\n",
      "                                 ('model',\n",
      "                                  KNeighborsClassifier(n_neighbors=2))]))])\n",
      "validation mean acc: 0.8333333333333334\n",
      "validation f1score: 0.8618784530386742\n",
      "\n",
      "\n"
     ]
    }
   ],
   "source": [
    "def validate_model_image(model, X, y):\n",
    "    \n",
    "    X_train, X_valid, y_train, y_valid = train_test_split(X,y, test_size=0.5, random_state=51)\n",
    "    \n",
    "    clf = make_pipeline(hogTransformer(), model)\n",
    "    print(f\"model: {clf}\")\n",
    "    clf.fit(X_train, y_train)\n",
    "    print(f\"validation mean acc: {clf.score(X_valid, y_valid)}\")\n",
    "    print(f\"validation f1score: {metrics.f1_score(y_valid, clf.predict(X_valid))}\")\n",
    "\n",
    "if __name__ == '__main__':\n",
    "    \n",
    "    \n",
    "    models = best_models\n",
    "    \n",
    "    print(f\"number of models: {len(models)}\")\n",
    "\n",
    "    for model in models :\n",
    "        with np.errstate(divide='ignore',invalid='ignore'):\n",
    "            validate_model_image(model, image_data, y)\n",
    "        print(\"\\n\")\n"
   ]
  },
  {
   "cell_type": "code",
   "execution_count": 15,
   "metadata": {},
   "outputs": [
    {
     "name": "stdout",
     "output_type": "stream",
     "text": [
      "Model: \"sequential\"\n",
      "_________________________________________________________________\n",
      "Layer (type)                 Output Shape              Param #   \n",
      "=================================================================\n",
      "conv2d (Conv2D)              (None, 94, 94, 32)        896       \n",
      "_________________________________________________________________\n",
      "max_pooling2d (MaxPooling2D) (None, 47, 47, 32)        0         \n",
      "_________________________________________________________________\n",
      "conv2d_1 (Conv2D)            (None, 45, 45, 64)        18496     \n",
      "_________________________________________________________________\n",
      "max_pooling2d_1 (MaxPooling2 (None, 22, 22, 64)        0         \n",
      "_________________________________________________________________\n",
      "conv2d_2 (Conv2D)            (None, 20, 20, 64)        36928     \n",
      "_________________________________________________________________\n",
      "flatten (Flatten)            (None, 25600)             0         \n",
      "_________________________________________________________________\n",
      "dense (Dense)                (None, 64)                1638464   \n",
      "_________________________________________________________________\n",
      "dense_1 (Dense)              (None, 2)                 130       \n",
      "=================================================================\n",
      "Total params: 1,694,914\n",
      "Trainable params: 1,694,914\n",
      "Non-trainable params: 0\n",
      "_________________________________________________________________\n"
     ]
    }
   ],
   "source": [
    "model = tf.keras.models.Sequential()\n",
    "model.add(layers.Conv2D(32, (3, 3), activation='relu', input_shape=(96, 96, 3)))\n",
    "model.add(layers.MaxPooling2D((2, 2)))\n",
    "model.add(layers.Conv2D(64, (3, 3), activation='relu'))\n",
    "model.add(layers.MaxPooling2D((2, 2)))\n",
    "model.add(layers.Conv2D(64, (3, 3), activation='relu'))\n",
    "model.add(layers.Flatten())\n",
    "model.add(layers.Dense(64, activation='relu'))\n",
    "model.add(layers.Dense(2))\n",
    "\n",
    "model.summary()\n",
    "\n"
   ]
  },
  {
   "cell_type": "code",
   "execution_count": 16,
   "metadata": {},
   "outputs": [
    {
     "name": "stdout",
     "output_type": "stream",
     "text": [
      "(2250, 96, 96, 3)\n",
      "Epoch 1/10\n",
      "71/71 [==============================] - 13s 44ms/step - loss: 17.9346 - accuracy: 0.6840 - val_loss: 0.9601 - val_accuracy: 0.6040\n",
      "Epoch 2/10\n",
      "71/71 [==============================] - 2s 32ms/step - loss: 0.5185 - accuracy: 0.7640 - val_loss: 0.3911 - val_accuracy: 0.8111\n",
      "Epoch 3/10\n",
      "71/71 [==============================] - 2s 32ms/step - loss: 0.3472 - accuracy: 0.8444 - val_loss: 0.3742 - val_accuracy: 0.8387\n",
      "Epoch 4/10\n",
      "71/71 [==============================] - 2s 30ms/step - loss: 0.3208 - accuracy: 0.8591 - val_loss: 0.3294 - val_accuracy: 0.8556\n",
      "Epoch 5/10\n",
      "71/71 [==============================] - 2s 30ms/step - loss: 0.2825 - accuracy: 0.8858 - val_loss: 0.3159 - val_accuracy: 0.8707\n",
      "Epoch 6/10\n",
      "71/71 [==============================] - 2s 31ms/step - loss: 0.2732 - accuracy: 0.8867 - val_loss: 0.3107 - val_accuracy: 0.8702\n",
      "Epoch 7/10\n",
      "71/71 [==============================] - 2s 30ms/step - loss: 0.2355 - accuracy: 0.9040 - val_loss: 0.3362 - val_accuracy: 0.8529\n",
      "Epoch 8/10\n",
      "71/71 [==============================] - 2s 30ms/step - loss: 0.2319 - accuracy: 0.9138 - val_loss: 0.3449 - val_accuracy: 0.8578\n",
      "Epoch 9/10\n",
      "71/71 [==============================] - 2s 31ms/step - loss: 0.1999 - accuracy: 0.9164 - val_loss: 0.4102 - val_accuracy: 0.8271\n",
      "Epoch 10/10\n",
      "71/71 [==============================] - 2s 30ms/step - loss: 0.1810 - accuracy: 0.9311 - val_loss: 0.4550 - val_accuracy: 0.8471\n"
     ]
    }
   ],
   "source": [
    "model.compile(optimizer='adam',\n",
    "              loss=tf.keras.losses.SparseCategoricalCrossentropy(from_logits=True),\n",
    "              metrics=['accuracy'])\n",
    "\n",
    "\n",
    "train_images, test_images, train_labels, test_labels = train_test_split(image_data, y, test_size=0.5, random_state=51)\n",
    "\n",
    "print(train_images.shape)\n",
    "\n",
    "history = model.fit(train_images, train_labels, epochs=10, \n",
    "                    validation_data=(test_images, test_labels))\n"
   ]
  },
  {
   "cell_type": "code",
   "execution_count": 17,
   "metadata": {},
   "outputs": [
    {
     "name": "stdout",
     "output_type": "stream",
     "text": [
      "71/71 - 1s - loss: 0.4550 - accuracy: 0.8471\n"
     ]
    },
    {
     "data": {
      "image/png": "[encoded data removed]",
      "text/plain": [
       "<Figure size 640x480 with 1 Axes>"
      ]
     },
     "metadata": {},
     "output_type": "display_data"
    }
   ],
   "source": [
    "plt.plot(history.history['accuracy'], label='accuracy')\n",
    "plt.plot(history.history['val_accuracy'], label = 'val_accuracy')\n",
    "plt.xlabel('Epoch')\n",
    "plt.ylabel('Accuracy')\n",
    "plt.ylim([0.5, 1])\n",
    "plt.legend(loc='lower right')\n",
    "\n",
    "test_loss, test_acc = model.evaluate(test_images,  test_labels, verbose=2)"
   ]
  }
 ],
 "metadata": {
  "kernelspec": {
   "display_name": "Python 3 (ipykernel)",
   "language": "python",
   "name": "python3"
  },
  "language_info": {
   "codemirror_mode": {
    "name": "ipython",
    "version": 3
   },
   "file_extension": ".py",
   "mimetype": "text/x-python",
   "name": "python",
   "nbconvert_exporter": "python",
   "pygments_lexer": "ipython3",
   "version": "3.9.16"
  },
  "vscode": {
   "interpreter": {
    "hash": "d1643c8da05b770f8cb2da575d29f8c96eedbb8f80a1eec25c1e3e9731514f75"
   }
  }
 },
 "nbformat": 4,
 "nbformat_minor": 2
}
